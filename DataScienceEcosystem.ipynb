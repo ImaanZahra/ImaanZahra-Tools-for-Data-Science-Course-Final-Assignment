{
  "nbformat": 4,
  "nbformat_minor": 0,
  "metadata": {
    "colab": {
      "provenance": [],
      "authorship_tag": "ABX9TyMs95+xEmeEXF8/fh34T1iv",
      "include_colab_link": true
    },
    "kernelspec": {
      "name": "python3",
      "display_name": "Python 3"
    },
    "language_info": {
      "name": "python"
    }
  },
  "cells": [
    {
      "cell_type": "markdown",
      "metadata": {
        "id": "view-in-github",
        "colab_type": "text"
      },
      "source": [
        "<a href=\"https://colab.research.google.com/github/ImaanZahra/ImaanZahra-Tools-for-Data-Science-Course-Final-Assignment/blob/main/DataScienceEcosystem.ipynb\" target=\"_parent\"><img src=\"https://colab.research.google.com/assets/colab-badge.svg\" alt=\"Open In Colab\"/></a>"
      ]
    },
    {
      "cell_type": "markdown",
      "source": [
        "### **Exercise 2:** Create markdown cell with title of the notebook"
      ],
      "metadata": {
        "id": "06lni2O7ggpQ"
      }
    },
    {
      "cell_type": "markdown",
      "source": [
        "# Data Science Tools and Ecosystem"
      ],
      "metadata": {
        "id": "xSr-O9LIqL6O"
      }
    },
    {
      "cell_type": "markdown",
      "source": [
        "### **Exercise 3** - Create a markdown cell for an introduction"
      ],
      "metadata": {
        "id": "8xUj0ycYfYyh"
      }
    },
    {
      "cell_type": "markdown",
      "source": [
        "In this notebook, Data Science Tools and Ecosystem are summarized."
      ],
      "metadata": {
        "id": "ZCBzUYqVrA7d"
      }
    },
    {
      "cell_type": "markdown",
      "source": [
        "### **Exercise 10** - Insert a markdown cell to list Objectives"
      ],
      "metadata": {
        "id": "WFwZonH0l40U"
      }
    },
    {
      "cell_type": "markdown",
      "source": [
        "**Objectives:**\n",
        "\n",
        "\n",
        "*   Markdowns\n",
        "*   Arithmetic Expressions\n",
        "*   Tables\n",
        "*   Popular Languages used in Data Science\n",
        "*   Tools used for Data Science\n",
        "\n",
        "\n",
        "\n"
      ],
      "metadata": {
        "id": "tG90vSnKl-LD"
      }
    },
    {
      "cell_type": "markdown",
      "source": [
        "### **Exercise 4** - Create a markdown cell to list data science languages"
      ],
      "metadata": {
        "id": "h8RU4eich5t1"
      }
    },
    {
      "cell_type": "markdown",
      "source": [
        "Some of the popular languages that Data Scientists use are:\n",
        "\n",
        "\n",
        "1.   Python\n",
        "2.   R\n",
        "3.   Java\n",
        "\n",
        "\n",
        "\n"
      ],
      "metadata": {
        "id": "ZkzI3TjtqIKX"
      }
    },
    {
      "cell_type": "markdown",
      "source": [
        "### **Exercise 5** - Create a markdown cell to list data science libraries"
      ],
      "metadata": {
        "id": "LY19FH1xjO-0"
      }
    },
    {
      "cell_type": "markdown",
      "source": [
        "Some of the commonly used libraries used by Data Scientists include:\n",
        "\n",
        "\n",
        "1.   Pandas\n",
        "2.   Numpy\n",
        "3.   Matplotlib\n",
        "4.   Scikit-lean\n",
        "\n",
        "\n",
        "\n"
      ],
      "metadata": {
        "id": "PiyYPiIyjUfi"
      }
    },
    {
      "cell_type": "markdown",
      "source": [
        "### **Exercise 6**- Create a markdown cell with a table of Data Science tools"
      ],
      "metadata": {
        "id": "1iHa5Lw3kC3n"
      }
    },
    {
      "cell_type": "markdown",
      "source": [
        "| Data Science Tools |\n",
        "|--------------------|\n",
        "| Jupyter Notebook   |\n",
        "| RStudio            |\n",
        "| VS Code            |\n"
      ],
      "metadata": {
        "id": "vM48ob2JsHDf"
      }
    },
    {
      "cell_type": "markdown",
      "source": [
        "## **Exercise 7** - Create a markdown cell introducing arithmetic expression examples"
      ],
      "metadata": {
        "id": "ubn85oXIkg4a"
      }
    },
    {
      "cell_type": "markdown",
      "source": [
        "### Below are a few examples of evaluating arithmetic expressions in Python.\n"
      ],
      "metadata": {
        "id": "hhX0j0ZdsqPU"
      }
    },
    {
      "cell_type": "markdown",
      "source": [
        "### **Exercise 8** - Create a code cell to multiply and add numbers"
      ],
      "metadata": {
        "id": "YXDiGYuWk9UX"
      }
    },
    {
      "cell_type": "code",
      "source": [
        "# This a simple arithmetic expression to mutiply then add integers.\n",
        "\n",
        "(3*4)+5"
      ],
      "metadata": {
        "colab": {
          "base_uri": "https://localhost:8080/"
        },
        "id": "u9B60A_EsSI5",
        "outputId": "e62f6925-e9c7-421d-e665-663b5775087b"
      },
      "execution_count": null,
      "outputs": [
        {
          "output_type": "execute_result",
          "data": {
            "text/plain": [
              "17"
            ]
          },
          "metadata": {},
          "execution_count": 1
        }
      ]
    },
    {
      "cell_type": "markdown",
      "source": [
        "### **Exercise 9** - Create a code cell to convert minutes to hours"
      ],
      "metadata": {
        "id": "SUL_ZuQhlRhM"
      }
    },
    {
      "cell_type": "code",
      "source": [
        "#  This will convert 200 minutes to hours by diving by 60\n",
        "minutes = 200\n",
        "hours = minutes / 60\n",
        "hours"
      ],
      "metadata": {
        "colab": {
          "base_uri": "https://localhost:8080/"
        },
        "id": "SXm7NXjgs61W",
        "outputId": "2caada41-82e6-433d-8303-6cd7a0258816"
      },
      "execution_count": null,
      "outputs": [
        {
          "output_type": "execute_result",
          "data": {
            "text/plain": [
              "3.3333333333333335"
            ]
          },
          "metadata": {},
          "execution_count": 5
        }
      ]
    },
    {
      "cell_type": "markdown",
      "source": [
        "### **Exercise 11**- Create a markdown cell to indicate the Author's name"
      ],
      "metadata": {
        "id": "t9tKJQpgnF3O"
      }
    },
    {
      "cell_type": "markdown",
      "source": [
        "## Author\n",
        "\n",
        "Imaan Zahra\n"
      ],
      "metadata": {
        "id": "p-oc3MtCukju"
      }
    }
  ]
}